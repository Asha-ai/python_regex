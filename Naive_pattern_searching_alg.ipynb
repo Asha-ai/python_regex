{
 "cells": [
  {
   "cell_type": "code",
   "execution_count": 5,
   "metadata": {},
   "outputs": [
    {
     "name": "stdout",
     "output_type": "stream",
     "text": [
      "Pattern found at index  16\n"
     ]
    }
   ],
   "source": [
    "\n",
    "#Naive Pattern Searching algorithm \n",
    "# write function for pattern search\n",
    "\n",
    "def search(pat, txt): \n",
    "    M = len(pat) \n",
    "    N = len(txt) \n",
    "  \n",
    "    # A loop to slide pat[] one by one */ \n",
    "    for i1 in range(N - M + 1): \n",
    "\n",
    "        i2 = 0\n",
    "          \n",
    "        # For current index i, check  \n",
    "        # for pattern match */ \n",
    "        for i2 in range(0, M): \n",
    "            if (txt[i1 + i2] != pat[i2]): \n",
    "                break\n",
    "  \n",
    "        if (i2 == M - 1):  \n",
    "            print(\"Pattern found at index \", i1) \n",
    "  \n",
    
    # why if class here - This is an entry point - it means we can define functions in any order
    # and they will all be defined in our sourse code compile and execute our program to execute
    # regardless how functions are defined.
    
    "if __name__ == '__main__': \n",
    "    txt = \"I am working as data science engineer\"\n",
    "    pat = \"data\"\n",
    "    search(pat, txt) \n"
   ]
  },
  {
   "cell_type": "code",
   "execution_count": null,
   "metadata": {},
   "outputs": [],
   "source": []
  },
  {
   "cell_type": "code",
   "execution_count": null,
   "metadata": {},
   "outputs": [],
   "source": []
  }
 ],
 "metadata": {
  "kernelspec": {
   "display_name": "Python 3",
   "language": "python",
   "name": "python3"
  },
  "language_info": {
   "codemirror_mode": {
    "name": "ipython",
    "version": 3
   },
   "file_extension": ".py",
   "mimetype": "text/x-python",
   "name": "python",
   "nbconvert_exporter": "python",
   "pygments_lexer": "ipython3",
   "version": "3.7.2"
  }
 },
 "nbformat": 4,
 "nbformat_minor": 2
}
